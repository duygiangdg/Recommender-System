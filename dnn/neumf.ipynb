{
 "cells": [
  {
   "cell_type": "code",
   "execution_count": 1,
   "metadata": {},
   "outputs": [
    {
     "name": "stdout",
     "output_type": "stream",
     "text": [
      "1.13.1\n"
     ]
    }
   ],
   "source": [
    "from __future__ import absolute_import, division, print_function\n",
    "import pandas as pd\n",
    "\n",
    "# TensorFlow and tf.keras\n",
    "import tensorflow as tf\n",
    "from tensorflow import keras\n",
    "\n",
    "# Helper libraries\n",
    "import numpy as np\n",
    "import matplotlib.pyplot as plt\n",
    "\n",
    "print(tf.__version__)\n",
    "\n",
    "from tensorflow.keras.optimizers import Adam, SGD"
   ]
  },
  {
   "cell_type": "code",
   "execution_count": 2,
   "metadata": {},
   "outputs": [],
   "source": [
    "r_cols = ['user_id', 'movie_id', 'rating', 'unix_timestamp']\n",
    "\n",
    "ratings_base = pd.read_csv(r'..\\data\\ml-100k\\ub.base', sep='\\t', names=r_cols, encoding='latin-1')\n",
    "ratings_test = pd.read_csv(r'..\\data\\ml-100k\\ub.test', sep='\\t', names=r_cols, encoding='latin-1')\n",
    "\n",
    "rate_train = ratings_base.values\n",
    "rate_test = ratings_test.values\n",
    "\n",
    "# indices start from 0\n",
    "rate_train[:, :2] -= 1\n",
    "rate_test[:, :2] -= 1"
   ]
  },
  {
   "cell_type": "code",
   "execution_count": 3,
   "metadata": {},
   "outputs": [
    {
     "data": {
      "text/plain": [
       "943"
      ]
     },
     "execution_count": 3,
     "metadata": {},
     "output_type": "execute_result"
    }
   ],
   "source": [
    "users = np.unique(rate_train[:, 0])\n",
    "num_users = np.max(users) + 1\n",
    "num_users"
   ]
  },
  {
   "cell_type": "code",
   "execution_count": 4,
   "metadata": {},
   "outputs": [
    {
     "data": {
      "text/plain": [
       "1682"
      ]
     },
     "execution_count": 4,
     "metadata": {},
     "output_type": "execute_result"
    }
   ],
   "source": [
    "items = np.unique(rate_train[:, 1])\n",
    "num_items = np.max(items) + 1\n",
    "num_items"
   ]
  },
  {
   "cell_type": "code",
   "execution_count": 124,
   "metadata": {},
   "outputs": [],
   "source": [
    "def construct_model(params):\n",
    "  # type: (tf.Tensor, tf.Tensor, dict) -> tf.Tensor\n",
    "  \"\"\"Initialize NeuMF model.\n",
    "\n",
    "  Args:\n",
    "    users: Tensor of user ids.\n",
    "    items: Tensor of item ids.\n",
    "    params: Dict of hyperparameters.\n",
    "\n",
    "  Raises:\n",
    "    ValueError: if the first model layer is not even.\n",
    "  \"\"\"\n",
    "\n",
    "  num_users = params[\"num_users\"]\n",
    "  num_items = params[\"num_items\"]\n",
    "    \n",
    "  model_layers = params[\"model_layers\"]\n",
    "    \n",
    "  mf_regularization = params[\"mf_regularization\"]\n",
    "  mlp_reg_layers = params[\"mlp_reg_layers\"]\n",
    "\n",
    "  mf_dim = params[\"mf_dim\"]\n",
    "\n",
    "  if model_layers[0] % 2 != 0:\n",
    "    raise ValueError(\"The first layer size should be multiple of 2!\")\n",
    "\n",
    "  # Input variables\n",
    "  user_input = tf.keras.layers.Input(shape=(1,))\n",
    "  item_input = tf.keras.layers.Input(shape=(1,))\n",
    "\n",
    "  # Initializer for embedding layers\n",
    "  embedding_initializer = \"glorot_uniform\"\n",
    "\n",
    "  # Embedding layers of GMF and MLP\n",
    "  mf_embedding_user = tf.keras.layers.Embedding(\n",
    "      num_users,\n",
    "      mf_dim,\n",
    "      embeddings_initializer=embedding_initializer,\n",
    "      embeddings_regularizer=tf.keras.regularizers.l2(mf_regularization),\n",
    "      input_length=1)\n",
    "  mf_embedding_item = tf.keras.layers.Embedding(\n",
    "      num_items,\n",
    "      mf_dim,\n",
    "      embeddings_initializer=embedding_initializer,\n",
    "      embeddings_regularizer=tf.keras.regularizers.l2(mf_regularization),\n",
    "      input_length=1)\n",
    "  mlp_embedding_user = tf.keras.layers.Embedding(\n",
    "      num_users,\n",
    "      model_layers[0]//2,\n",
    "      embeddings_initializer=embedding_initializer,\n",
    "      embeddings_regularizer=tf.keras.regularizers.l2(mlp_reg_layers[0]),\n",
    "      input_length=1)\n",
    "  mlp_embedding_item = tf.keras.layers.Embedding(\n",
    "      num_items,\n",
    "      model_layers[0]//2,\n",
    "      embeddings_initializer=embedding_initializer,\n",
    "      embeddings_regularizer=tf.keras.regularizers.l2(mlp_reg_layers[0]),\n",
    "      input_length=1)\n",
    "\n",
    "  # GMF part\n",
    "  mf_user_latent = mf_embedding_user(user_input)\n",
    "  mf_item_latent = mf_embedding_item(item_input)\n",
    "  # Element-wise multiply\n",
    "  mf_vector = tf.keras.layers.multiply([mf_user_latent, mf_item_latent])\n",
    "\n",
    "  # MLP part\n",
    "  mlp_user_latent = mlp_embedding_user(user_input)\n",
    "  mlp_item_latent = mlp_embedding_item(item_input)\n",
    "  # Concatenation of two latent features\n",
    "  mlp_vector = tf.keras.layers.concatenate([mlp_user_latent, mlp_item_latent])\n",
    "\n",
    "  num_layer = len(model_layers)  # Number of layers in the MLP\n",
    "  for layer in range(1, num_layer):\n",
    "    model_layer = tf.keras.layers.Dense(\n",
    "        model_layers[layer],\n",
    "        kernel_regularizer=tf.keras.regularizers.l2(mlp_reg_layers[layer]),\n",
    "        activation=\"relu\")\n",
    "    mlp_vector = model_layer(mlp_vector)\n",
    "\n",
    "  # Concatenate GMF and MLP parts\n",
    "  predict_vector = tf.keras.layers.concatenate([mf_vector, mlp_vector])\n",
    "\n",
    "  # Final prediction layer\n",
    "  logits = tf.keras.layers.Dense(\n",
    "      1, activation=None, kernel_initializer=\"lecun_uniform\",\n",
    "      name='Rating')(predict_vector)\n",
    "\n",
    "  # Print model topology.\n",
    "  model = tf.keras.models.Model([user_input, item_input], logits)\n",
    "  model.summary()\n",
    "\n",
    "  return model"
   ]
  },
  {
   "cell_type": "code",
   "execution_count": 126,
   "metadata": {
    "scrolled": true
   },
   "outputs": [
    {
     "name": "stdout",
     "output_type": "stream",
     "text": [
      "__________________________________________________________________________________________________\n",
      "Layer (type)                    Output Shape         Param #     Connected to                     \n",
      "==================================================================================================\n",
      "input_37 (InputLayer)           (None, 1)            0                                            \n",
      "__________________________________________________________________________________________________\n",
      "input_38 (InputLayer)           (None, 1)            0                                            \n",
      "__________________________________________________________________________________________________\n",
      "embedding_40 (Embedding)        (None, 1, 20)        18860       input_37[0][0]                   \n",
      "__________________________________________________________________________________________________\n",
      "embedding_41 (Embedding)        (None, 1, 20)        33640       input_38[0][0]                   \n",
      "__________________________________________________________________________________________________\n",
      "concatenate_6 (Concatenate)     (None, 1, 40)        0           embedding_40[0][0]               \n",
      "                                                                 embedding_41[0][0]               \n",
      "__________________________________________________________________________________________________\n",
      "embedding_38 (Embedding)        (None, 1, 20)        18860       input_37[0][0]                   \n",
      "__________________________________________________________________________________________________\n",
      "embedding_39 (Embedding)        (None, 1, 20)        33640       input_38[0][0]                   \n",
      "__________________________________________________________________________________________________\n",
      "dense_17 (Dense)                (None, 1, 40)        1640        concatenate_6[0][0]              \n",
      "__________________________________________________________________________________________________\n",
      "multiply_11 (Multiply)          (None, 1, 20)        0           embedding_38[0][0]               \n",
      "                                                                 embedding_39[0][0]               \n",
      "__________________________________________________________________________________________________\n",
      "dense_18 (Dense)                (None, 1, 40)        1640        dense_17[0][0]                   \n",
      "__________________________________________________________________________________________________\n",
      "concatenate_7 (Concatenate)     (None, 1, 60)        0           multiply_11[0][0]                \n",
      "                                                                 dense_18[0][0]                   \n",
      "__________________________________________________________________________________________________\n",
      "Rating (Dense)                  (None, 1, 1)         61          concatenate_7[0][0]              \n",
      "==================================================================================================\n",
      "Total params: 108,341\n",
      "Trainable params: 108,341\n",
      "Non-trainable params: 0\n",
      "__________________________________________________________________________________________________\n"
     ]
    }
   ],
   "source": [
    "params = {\n",
    "    'num_users': num_users,\n",
    "    'num_items': num_items,\n",
    "    'mf_dim': 20,\n",
    "    'mf_regularization': 0.001,\n",
    "    'model_layers': [40, 40, 40],\n",
    "    'mlp_reg_layers': [0.001, 0.001, 0.001]\n",
    "}\n",
    "model = construct_model(params)"
   ]
  },
  {
   "cell_type": "code",
   "execution_count": null,
   "metadata": {
    "scrolled": false
   },
   "outputs": [
    {
     "name": "stdout",
     "output_type": "stream",
     "text": [
      "Epoch 1/100\n",
      "90570/90570 [==============================] - 227s 3ms/sample - loss: 2.3563\n",
      "Epoch 2/100\n",
      "90570/90570 [==============================] - 231s 3ms/sample - loss: 1.0621\n",
      "Epoch 3/100\n",
      "28104/90570 [========>.....................] - ETA: 2:28 - loss: 1.0133"
     ]
    }
   ],
   "source": [
    "model.compile(optimizer=Adam(lr=0.00001), loss='MSE')\n",
    "model.fit(x=[rate_train[:,0], rate_train[:,1]], y=rate_train[:,2], epochs=100, batch_size=1)"
   ]
  },
  {
   "cell_type": "code",
   "execution_count": null,
   "metadata": {},
   "outputs": [],
   "source": [
    "model.compile(optimizer=Adam(lr=0.000001), loss='MSE')\n",
    "model.fit(x=[rate_train[:,0], rate_train[:,1]], y=rate_train[:,2], epochs=100, batch_size=1)"
   ]
  },
  {
   "cell_type": "code",
   "execution_count": 107,
   "metadata": {
    "scrolled": true
   },
   "outputs": [
    {
     "data": {
      "text/plain": [
       "array([[[4.938753]]], dtype=float32)"
      ]
     },
     "execution_count": 107,
     "metadata": {},
     "output_type": "execute_result"
    }
   ],
   "source": [
    "model.predict(x = [[0], [0]])"
   ]
  },
  {
   "cell_type": "code",
   "execution_count": 108,
   "metadata": {},
   "outputs": [
    {
     "data": {
      "text/plain": [
       "array([[[2.9651628]]], dtype=float32)"
      ]
     },
     "execution_count": 108,
     "metadata": {},
     "output_type": "execute_result"
    }
   ],
   "source": [
    "model.predict(x = [[0], [1]])"
   ]
  },
  {
   "cell_type": "code",
   "execution_count": 61,
   "metadata": {
    "scrolled": true
   },
   "outputs": [
    {
     "data": {
      "text/plain": [
       "array([[        0,         0,         5, 874965758],\n",
       "       [        0,         1,         3, 876893171],\n",
       "       [        0,         2,         4, 878542960],\n",
       "       ...,\n",
       "       [      942,      1187,         3, 888640250],\n",
       "       [      942,      1227,         3, 888640275],\n",
       "       [      942,      1329,         3, 888692465]], dtype=int64)"
      ]
     },
     "execution_count": 61,
     "metadata": {},
     "output_type": "execute_result"
    }
   ],
   "source": [
    "rate_train"
   ]
  }
 ],
 "metadata": {
  "kernelspec": {
   "display_name": "Python 3",
   "language": "python",
   "name": "python3"
  },
  "language_info": {
   "codemirror_mode": {
    "name": "ipython",
    "version": 3
   },
   "file_extension": ".py",
   "mimetype": "text/x-python",
   "name": "python",
   "nbconvert_exporter": "python",
   "pygments_lexer": "ipython3",
   "version": "3.7.1"
  }
 },
 "nbformat": 4,
 "nbformat_minor": 2
}
